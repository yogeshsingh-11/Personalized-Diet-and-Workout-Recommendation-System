import os
import re
os.environ['OPENAI_API_KEY'] = 'you api is here' # apenai

from langchain.prompts import PromptTemplate
from langchain.llms import OpenAI
from langchain.chains import LLMChain

llm_resto = OpenAI(temperature=0.6)

prompt_template_resto = PromptTemplate(
    input_variables=['age', 'gender', 'weight', 'height', 'veg_or_nonveg', 'disease', 'region', 'allergics', 'foodtype'],
    template="Diet Recommendation System:\n"
             "I want you to recommend 6 restaurants names, 6 breakfast names, 5 dinner names, and 6 workout names, "
             "based on the following criteria:\n"
             "Person age: {age}\n"
             "Person gender: {gender}\n"
             "Person weight: {weight}\n"
             "Person height: {height}\n"
             "Person veg_or_nonveg: {veg_or_nonveg}\n"
             "Person generic disease: {disease}\n"
             "Person region: {region}\n"
             "Person allergics: {allergics}\n"
             "Person foodtype: {foodtype}."
)

chain_resto = LLMChain(llm=llm_resto, prompt=prompt_template_resto)

# Define the input dictionary
input_data = {
    'age': 60,
    'gender': 'male',
    'weight': 120,
    'height': 5,
    'veg_or_nonveg': 'veg',
    'disease': 'aneamia',
    'region': 'India',
    'allergics': 'Latex Allergy',
    'foodtype': 'Fruits'
}

results = chain_resto.run(input_data)

# Extracting the different recommendations using regular expressions
restaurant_names = re.findall(r'Restaurants:(.*?)Breakfast:', results, re.DOTALL)
breakfast_names = re.findall(r'Breakfast:(.*?)Dinner:', results, re.DOTALL)
dinner_names = re.findall(r'Dinner:(.*?)Workouts:', results, re.DOTALL)
workout_names = re.findall(r'Workouts:(.*?)$', results, re.DOTALL)

# Cleaning up the extracted lists
restaurant_names = [name.strip() for name in restaurant_names[0].strip().split('\n') if name.strip()] if restaurant_names else []
breakfast_names = [name.strip() for name in breakfast_names[0].strip().split('\n') if name.strip()] if breakfast_names else []
dinner_names = [name.strip() for name in dinner_names[0].strip().split('\n') if name.strip()] if dinner_names else []
workout_names = [name.strip() for name in workout_names[0].strip().split('\n') if name.strip()] if workout_names else []

# Printing the recommendations separately
print("Recommended Restaurants:", restaurant_names)
print("Recommended Breakfasts:", breakfast_names)
print("Recommended Dinners:", dinner_names)
print("Recommended Workouts:", workout_names)
